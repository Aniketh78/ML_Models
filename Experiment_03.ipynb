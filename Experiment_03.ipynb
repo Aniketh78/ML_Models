{
  "nbformat": 4,
  "nbformat_minor": 0,
  "metadata": {
    "colab": {
      "provenance": [],
      "mount_file_id": "1paxwdALVtJQtEGkcM9e2uyYA3RAlysJ8",
      "authorship_tag": "ABX9TyMaVlYYTMWMyIoJXEMlqFyq",
      "include_colab_link": true
    },
    "kernelspec": {
      "name": "python3",
      "display_name": "Python 3"
    },
    "language_info": {
      "name": "python"
    }
  },
  "cells": [
    {
      "cell_type": "markdown",
      "metadata": {
        "id": "view-in-github",
        "colab_type": "text"
      },
      "source": [
        "<a href=\"https://colab.research.google.com/github/Aniketh78/ML_Models/blob/main/Experiment_03.ipynb\" target=\"_parent\"><img src=\"https://colab.research.google.com/assets/colab-badge.svg\" alt=\"Open In Colab\"/></a>"
      ]
    },
    {
      "cell_type": "code",
      "execution_count": null,
      "metadata": {
        "colab": {
          "base_uri": "https://localhost:8080/"
        },
        "id": "X1yQQR8ySf3n",
        "outputId": "3af07abd-ede4-47b3-df9b-de838e8ecb41"
      },
      "outputs": [
        {
          "output_type": "stream",
          "name": "stdout",
          "text": [
            "    User ID  Gender  Age  EstimatedSalary  Purchased\n",
            "0  15624510    Male   19            19000          0\n",
            "1  15810944    Male   35            20000          0\n",
            "2  15668575  Female   26            43000          0\n",
            "3  15603246  Female   27            57000          0\n",
            "4  15804002    Male   19            76000          0\n"
          ]
        }
      ],
      "source": [
        "import pandas as pd\n",
        "import numpy as np\n",
        "from numpy import log,dot,exp,shape\n",
        "from sklearn.metrics import confusion_matrix\n",
        "data = pd.read_csv(\"/content/drive/MyDrive/Datasets/suv_data.csv\")\n",
        "print(data.head())"
      ]
    },
    {
      "cell_type": "code",
      "source": [
        "x = data.iloc[:, [2, 3]].values\n",
        "y = data.iloc[:, 4].values\n",
        "\n",
        "from sklearn.model_selection import train_test_split\n",
        "x_train, x_test, y_train, y_test=train_test_split(x,y,test_size=0.10, random_state=0)\n",
        "from sklearn.preprocessing import StandardScaler\n",
        "sc=StandardScaler()\n",
        "x_train=sc.fit_transform(x_train)\n",
        "x_test=sc.transform(x_test)\n",
        "print (x_train[0:10,:])"
      ],
      "metadata": {
        "colab": {
          "base_uri": "https://localhost:8080/"
        },
        "id": "cRnqkciIUEyC",
        "outputId": "e7f37757-e875-42b7-a6dc-4c553bfeabf4"
      },
      "execution_count": null,
      "outputs": [
        {
          "output_type": "stream",
          "name": "stdout",
          "text": [
            "[[-1.05714987  0.53420426]\n",
            " [ 0.2798728  -0.51764734]\n",
            " [-1.05714987  0.41733186]\n",
            " [-0.29313691 -1.45262654]\n",
            " [ 0.47087604  1.23543867]\n",
            " [-1.05714987 -0.34233874]\n",
            " [-0.10213368  0.30045946]\n",
            " [ 1.33039061  0.59264046]\n",
            " [-1.15265148 -1.16044554]\n",
            " [ 1.04388575  0.47576806]]\n"
          ]
        }
      ]
    },
    {
      "cell_type": "code",
      "source": [
        "from sklearn.linear_model import LogisticRegression\n",
        "classifier=LogisticRegression(random_state=0)\n",
        "classifier.fit(x_train,y_train)\n",
        "LogisticRegression (random_state=0)\n",
        "y_pred = classifier.predict(x_test)\n",
        "print(y_pred)"
      ],
      "metadata": {
        "colab": {
          "base_uri": "https://localhost:8080/"
        },
        "id": "KKF4MWbnUQka",
        "outputId": "c62fe1fd-0b11-4e00-a70b-05f68bab6b97"
      },
      "execution_count": null,
      "outputs": [
        {
          "output_type": "stream",
          "name": "stdout",
          "text": [
            "[0 0 0 0 0 0 0 1 0 1 0 0 0 0 0 0 0 0 1 0 0 1 0 1 0 1 0 0 0 0 0 0 1 0 0 0 0\n",
            " 0 0 1]\n"
          ]
        }
      ]
    },
    {
      "cell_type": "code",
      "source": [
        "from sklearn.metrics import confusion_matrix\n",
        "cm = confusion_matrix(y_test, y_pred)\n",
        "print (\"Confusion Matrix : \\n\", cm)"
      ],
      "metadata": {
        "colab": {
          "base_uri": "https://localhost:8080/"
        },
        "id": "5oQBG499US2C",
        "outputId": "07587ca1-0853-4eed-e532-9ba93dd87295"
      },
      "execution_count": null,
      "outputs": [
        {
          "output_type": "stream",
          "name": "stdout",
          "text": [
            "Confusion Matrix : \n",
            " [[31  1]\n",
            " [ 1  7]]\n"
          ]
        }
      ]
    },
    {
      "cell_type": "code",
      "source": [
        "from sklearn.metrics import accuracy_score\n",
        "print (\"Accuracy : \",accuracy_score(y_test, y_pred))"
      ],
      "metadata": {
        "colab": {
          "base_uri": "https://localhost:8080/"
        },
        "id": "S10foU5WUVBK",
        "outputId": "462cef84-290d-479d-fe54-97020067fbac"
      },
      "execution_count": null,
      "outputs": [
        {
          "output_type": "stream",
          "name": "stdout",
          "text": [
            "Accuracy :  0.95\n"
          ]
        }
      ]
    },
    {
      "cell_type": "code",
      "source": [
        "#User Defined function\n",
        "from sklearn.model_selection import train_test_split\n",
        "x_train, x_test, y_train, y_test=train_test_split(x,y,test_size=0.10, random_state=0)\n",
        "def Std(input_data):\n",
        "  mean0 = np.mean(input_data[:, 0])\n",
        "  sd0 = np.std(input_data[:, 0])\n",
        "  mean1 = np.mean(input_data[:, 1])\n",
        "  sd1 = np.std(input_data[:, 1])\n",
        "  return lambda x:((x[0]-mean0)/sd0, (x[1]-mean1)/sd1)\n",
        "my_std = Std(x)\n",
        "my_std(x_train[0])"
      ],
      "metadata": {
        "colab": {
          "base_uri": "https://localhost:8080/"
        },
        "id": "tJMY6hxkUXKq",
        "outputId": "6a57b280-de49-480c-8fc2-c3ebec17db6a"
      },
      "execution_count": null,
      "outputs": [
        {
          "output_type": "execute_result",
          "data": {
            "text/plain": [
              "(-1.017692393473028, 0.5361288690822568)"
            ]
          },
          "metadata": {},
          "execution_count": 6
        }
      ]
    },
    {
      "cell_type": "code",
      "source": [
        "def standardize(X_tr):\n",
        "  for i in range(shape(X_tr)[1]):\n",
        "    X_tr[:,i] = (X_tr[:,i] - np.mean(X_tr[:,i]))/np.std(X_tr[:,i])\n",
        "def F1_score(y,y_hat):\n",
        "  tp,tn,fp,fn = 0,0,0,0\n",
        "  for i in range(len(y)):\n",
        "    if y[i] == 1 and y_hat[i] == 1:\n",
        "      tp += 1\n",
        "    elif y[i] == 1 and y_hat[i] == 0:\n",
        "      fn += 1\n",
        "    elif y[i] == 0 and y_hat[i] == 1:\n",
        "      fp += 1\n",
        "    elif y[i] == 0 and y_hat[i] == 0:\n",
        "      tn += 1\n",
        "  precision = tp/(tp+fp)\n",
        "  recall = tp/(tp+fn)\n",
        "  f1_score = 2*precision*recall/(precision+recall)\n",
        "  return f1_score\n",
        "\n",
        "class LogisticRegression:\n",
        "  def sigmoid(self,z):\n",
        "    sig = 1/(1+exp(-z))\n",
        "    return sig\n",
        "  def initialize(self,X):\n",
        "    weights = np.zeros((shape(X)[1]+1,1))\n",
        "    X = np.c_[np.ones((shape(X)[0],1)),X]\n",
        "    return weights,X\n",
        "  def fit(self,X,y,alpha=0.001,iter=400):\n",
        "    weights,X = self.initialize(X)\n",
        "  def cost(theta):\n",
        "    z = dot(X,theta)\n",
        "    cost0 = y.T.dot(log(self.sigmoid(z)))\n",
        "    cost1 = (1-y).T.dot(log(1-self.sigmoid(z)))\n",
        "    cost = -((cost1 + cost0))/len(y)\n",
        "    return cost\n",
        "    cost_list = np.zeros(iter,)\n",
        "    for i in range(iter):\n",
        "      weights = weights - alpha*dot(X.T,self.sigmoid(dot(X,weights))-np.reshape(y,(len(y),1)))\n",
        "      cost_list[i] = cost(weights)\n",
        "      self.weights = weights\n",
        "    return cost_list\n",
        "  def predict(self,X):\n",
        "    z = dot(self.initialize(X)[1],self.weights)\n",
        "    lis = []\n",
        "    for i in self.sigmoid(z):\n",
        "      if i>0.5:\n",
        "        lis.append(1)\n",
        "      else:\n",
        "        lis.append(0)\n",
        "      return lis\n",
        "  standardize(x_train)\n",
        "  standardize(x_test)\n",
        "  obj1 = LogisticRegression()\n",
        "  model= obj1.fit(x_train,y_train)\n",
        "  y_pred = obj1.predict(x_test)\n",
        "  y_trainn = obj1.predict(x_train)\n",
        "  f1_score_tr = F1_score(y_train,y_trainn)\n",
        "  f1_score_te = F1_score(y_test,y_pred)\n",
        "  print(f1_score_tr)\n",
        "  print(f1_score_te)\n",
        "  conf_mat = confusion_matrix(y_test, y_pred)\n",
        "  accuracy = (conf_mat[0, 0] + conf_mat[1, 1]) / sum(sum(conf_mat))\n",
        "  print(\"Accuracy is : \",accuracy)"
      ],
      "metadata": {
        "colab": {
          "base_uri": "https://localhost:8080/"
        },
        "id": "O4TCvDIuUhJi",
        "outputId": "bc5c797d-7881-4b1e-d52f-730fbfd01101"
      },
      "execution_count": null,
      "outputs": [
        {
          "output_type": "stream",
          "name": "stdout",
          "text": [
            "0.7583333333333334\n",
            "0.823529411764706\n",
            "Accuracy is :  0.925\n"
          ]
        }
      ]
    }
  ]
}